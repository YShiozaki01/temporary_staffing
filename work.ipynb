{
 "cells": [
  {
   "cell_type": "code",
   "execution_count": 11,
   "metadata": {},
   "outputs": [
    {
     "name": "stdout",
     "output_type": "stream",
     "text": [
      "test_spam\n",
      "global_spam\n"
     ]
    }
   ],
   "source": [
    "spam = \"test_spam\"\n",
    "\n",
    "def do_local():\n",
    "    spam = \"local_spam\"\n",
    "\n",
    "do_local()\n",
    "print(spam)\n",
    "\n",
    "def do_global():\n",
    "    global spam\n",
    "    spam = \"global_spam\"\n",
    "\n",
    "do_global()\n",
    "print(spam)"
   ]
  },
  {
   "cell_type": "code",
   "execution_count": 12,
   "metadata": {},
   "outputs": [],
   "source": [
    "class GlobalSpam:\n",
    "    g_spam = \"\"\n",
    "\n",
    "gs = GlobalSpam()\n",
    "\n",
    "def substitute1():\n",
    "    gs.g_spam = \"global spam test\"\n",
    "\n",
    "def print1():\n",
    "    print(gs.g_spam)"
   ]
  },
  {
   "cell_type": "code",
   "execution_count": 13,
   "metadata": {},
   "outputs": [
    {
     "name": "stdout",
     "output_type": "stream",
     "text": [
      "{'A': '001', 'B': '002', 'C': '003'}\n"
     ]
    }
   ],
   "source": [
    "global g_dict\n",
    "g_dict = {}\n",
    "\n",
    "def substitute1():\n",
    "    g_dict[\"A\"] = \"001\"\n",
    "    g_dict[\"B\"] = \"002\"\n",
    "\n",
    "def substitute2():\n",
    "    g_dict[\"C\"] = \"003\"\n",
    "\n",
    "if __name__ == \"__main__\":\n",
    "    substitute1()\n",
    "    substitute2()\n",
    "    print(g_dict)"
   ]
  }
 ],
 "metadata": {
  "kernelspec": {
   "display_name": "Python 3",
   "language": "python",
   "name": "python3"
  },
  "language_info": {
   "codemirror_mode": {
    "name": "ipython",
    "version": 3
   },
   "file_extension": ".py",
   "mimetype": "text/x-python",
   "name": "python",
   "nbconvert_exporter": "python",
   "pygments_lexer": "ipython3",
   "version": "3.11.2"
  }
 },
 "nbformat": 4,
 "nbformat_minor": 2
}
