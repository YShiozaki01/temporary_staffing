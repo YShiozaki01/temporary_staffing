{
 "cells": [
  {
   "cell_type": "code",
   "execution_count": 11,
   "metadata": {},
   "outputs": [
    {
     "name": "stdout",
     "output_type": "stream",
     "text": [
      "test_spam\n",
      "global_spam\n"
     ]
    }
   ],
   "source": [
    "spam = \"test_spam\"\n",
    "\n",
    "def do_local():\n",
    "    spam = \"local_spam\"\n",
    "\n",
    "do_local()\n",
    "print(spam)\n",
    "\n",
    "def do_global():\n",
    "    global spam\n",
    "    spam = \"global_spam\"\n",
    "\n",
    "do_global()\n",
    "print(spam)"
   ]
  },
  {
   "cell_type": "code",
   "execution_count": 12,
   "metadata": {},
   "outputs": [],
   "source": [
    "class GlobalSpam:\n",
    "    g_spam = \"\"\n",
    "\n",
    "gs = GlobalSpam()\n",
    "\n",
    "def substitute1():\n",
    "    gs.g_spam = \"global spam test\"\n",
    "\n",
    "def print1():\n",
    "    print(gs.g_spam)"
   ]
  },
  {
   "cell_type": "code",
   "execution_count": 13,
   "metadata": {},
   "outputs": [
    {
     "name": "stdout",
     "output_type": "stream",
     "text": [
      "{'A': '001', 'B': '002', 'C': '003'}\n"
     ]
    }
   ],
   "source": [
    "global g_dict\n",
    "g_dict = {}\n",
    "\n",
    "def substitute1():\n",
    "    g_dict[\"A\"] = \"001\"\n",
    "    g_dict[\"B\"] = \"002\"\n",
    "\n",
    "def substitute2():\n",
    "    g_dict[\"C\"] = \"003\"\n",
    "\n",
    "if __name__ == \"__main__\":\n",
    "    substitute1()\n",
    "    substitute2()\n",
    "    print(g_dict)"
   ]
  },
  {
   "cell_type": "code",
   "execution_count": 1,
   "metadata": {},
   "outputs": [],
   "source": [
    "import sqlite3\n",
    "\n",
    "DATABASE = \"./database/database.db\"\n",
    "\n",
    "sql = \"\"\"\n",
    "    DELETE FROM TTemporary_staffing;\n",
    "    DELETE FROM sqlite_sequence WHERE name = 'TTemporary_staffing';\"\"\"\n",
    "\n",
    "conn = sqlite3.connect(DATABASE)\n",
    "cur = conn.cursor()\n",
    "cur.executescript(sql)\n",
    "conn.commit()"
   ]
  },
  {
   "cell_type": "code",
   "execution_count": 8,
   "metadata": {},
   "outputs": [
    {
     "name": "stdout",
     "output_type": "stream",
     "text": [
      "('03', 173, '2', '―', '―', 'ロッテＥＣ加工分', '1430')\n"
     ]
    }
   ],
   "source": [
    "import sqlite3\n",
    "\n",
    "DATABASE = \"./database/database.db\"\n",
    "DEPARTMENT = \"03\"\n",
    "VENDORNAME = \"エコー\"\n",
    "HUMANNAME = \"%\"\n",
    "\n",
    "sql = f\"\"\"\n",
    "    SELECT b.部門, a.* FROM MHuman_resources as a\n",
    "    LEFT JOIN MVendor as b on a.業者コード = b.コード\n",
    "    WHERE b.部門 = '{DEPARTMENT}' AND b.名称 like '%{VENDORNAME}%'\n",
    "    AND a.名称 like '%{HUMANNAME}%';\"\"\"\n",
    "\n",
    "conn = sqlite3.connect(DATABASE)\n",
    "cur = conn.cursor()\n",
    "cur.execute(sql)\n",
    "result = cur.fetchall()\n",
    "\n",
    "for rec in result:\n",
    "    print(rec)"
   ]
  },
  {
   "cell_type": "code",
   "execution_count": 7,
   "metadata": {},
   "outputs": [],
   "source": [
    "import sqlite3\n",
    "\n",
    "DATABASE = \"./database/database.db\"\n",
    "CODE = \"173\"\n",
    "UNITPRICE = 1430\n",
    "\n",
    "sql = f\"\"\"\n",
    "    UPDATE MHuman_resources SET 基本単価 = {UNITPRICE}\n",
    "    WHERE コード = '{CODE}';\"\"\"\n",
    "\n",
    "conn = sqlite3.connect(DATABASE)\n",
    "cur = conn.cursor()\n",
    "cur.execute(sql)\n",
    "conn.commit()"
   ]
  },
  {
   "cell_type": "code",
   "execution_count": 2,
   "metadata": {},
   "outputs": [
    {
     "name": "stdout",
     "output_type": "stream",
     "text": [
      "[[1492, 2023, 9, '12', 28, 359, 48.0, '', ''], [1493, 2023, 9, '12', 28, 360, 205.0, '', ''], [1494, 2023, 9, '12', 28, 786, 112.75, '', ''], [1495, 2023, 9, '12', 29, 361, 0.0, '162181', ''], [1496, 2023, 9, '12', 29, 362, 0.0, '165654', ''], [1497, 2023, 9, '12', 29, 363, 0.0, '173923', ''], [1498, 2023, 9, '12', 29, 364, 0.0, '174', ''], [1499, 2023, 9, '12', 29, 365, 0.0, '4418', ''], [1500, 2023, 9, '12', 29, 367, 0.0, '360000円', '']]\n"
     ]
    }
   ],
   "source": [
    "import sqlite3\n",
    "\n",
    "DATABASE = \"./database/database.db\"\n",
    "\n",
    "conn = sqlite3.connect(DATABASE)\n",
    "cur = conn.cursor()\n",
    "cur.execute(\"SELECT * FROM TTemporary_staffing WHERE 請求年 = 2023 AND 請求月 = 9;\")\n",
    "result = cur.fetchall()\n",
    "array = []\n",
    "for element in result:\n",
    "    array.append(list(element))\n",
    "print(array)"
   ]
  }
 ],
 "metadata": {
  "kernelspec": {
   "display_name": "Python 3",
   "language": "python",
   "name": "python3"
  },
  "language_info": {
   "codemirror_mode": {
    "name": "ipython",
    "version": 3
   },
   "file_extension": ".py",
   "mimetype": "text/x-python",
   "name": "python",
   "nbconvert_exporter": "python",
   "pygments_lexer": "ipython3",
   "version": "3.11.1"
  }
 },
 "nbformat": 4,
 "nbformat_minor": 2
}
